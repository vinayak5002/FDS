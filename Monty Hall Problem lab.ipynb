{
 "cells": [
  {
   "cell_type": "markdown",
   "metadata": {},
   "source": [
    "# Monty Hall Problem"
   ]
  },
  {
   "cell_type": "markdown",
   "metadata": {},
   "source": [
    "The Monty Hall problem goes like this: Suppose on a gameshow. we’re presented with a row of three doors; behind one of these doors there is a brand new sportscar, while behind the rest of the doors there are goats. I win the sports car if I pick the the door with the car behind it. Suppose that I pick door number 1. The host will then open one of the doors 2 or 3 that has a goat behind it. The host now asks me if I would like to change your choice of door. Should I change your choice, or should I stick with your original pick?\n",
    "\n",
    "Intuitively it would seem like it wouldn’t really make a difference whether we change our selection; it should be 50/50, right? Well, it turns out that you are actually twice as likely to get a car if you change your pick. Specifically, you have a 1/3 chance of getting the car if you stick with your original pick, while the probability is 2/3 if I change my pick. Let’s create a simulation in Python to see the probability.\n",
    "\n"
   ]
  },
  {
   "cell_type": "code",
   "execution_count": 97,
   "metadata": {},
   "outputs": [
    {
     "name": "stdout",
     "output_type": "stream",
     "text": [
      "All doors: [0, 1, 2]\n",
      "Car is behind: 1\n",
      "Picked door: 2\n",
      "Other doors: [0, 1]\n",
      "Alternative door: 1\n",
      "Was the choice of changing the door will lead to win the car ?\n",
      "True\n"
     ]
    }
   ],
   "source": [
    "import random\n",
    "\n",
    "# The total number of doors.\n",
    "num_doors = 3\n",
    "\n",
    "# A list of all doors. Each integer 0..num_doors-1 represents a door.\n",
    "doors = list(range(num_doors))\n",
    "print(f\"All doors: {doors}\")\n",
    "\n",
    "# The door that the car is behind.\n",
    "car_behind = random.randrange(num_doors)\n",
    "print(f\"Car is behind: {car_behind}\")\n",
    "\n",
    "# The door the player initially chose.\n",
    "picked_door = random.randrange(num_doors)\n",
    "print(f\"Picked door: {picked_door}\")\n",
    "\n",
    "# A list of the doors that the player did not pick.\n",
    "other_doors = [door for door in doors if door != picked_door]\n",
    "print(f\"Other doors: {other_doors}\")\n",
    "\n",
    "# The door that the player did not pick, and which was\n",
    "# kept closed during the reveal.\n",
    "alternative_door = (car_behind if car_behind in other_doors else random.choice(other_doors))\n",
    "print(f\"Alternative door: {alternative_door}\")\n",
    "\n",
    "# Whether or not changing the inital choice was correct.\n",
    "change_correct = alternative_door == car_behind\n",
    "print(f\"Was the choice of changing the door will lead to win the car ?\\n{change_correct}\")"
   ]
  },
  {
   "cell_type": "markdown",
   "metadata": {},
   "source": [
    " # let’s run this simulation 10,000 times and analyze the results.\n",
    " Running this program should give  an output of around 2/3 \\approx 0.662/3≈0.66\n",
    "\n"
   ]
  },
  {
   "cell_type": "code",
   "execution_count": 98,
   "metadata": {},
   "outputs": [
    {
     "name": "stdout",
     "output_type": "stream",
     "text": [
      "66.18 %\n"
     ]
    }
   ],
   "source": [
    "import random\n",
    "\n",
    "\n",
    "def evaluate_change_correct():\n",
    "    num_doors = 3\n",
    "    doors = list(range(num_doors))\n",
    "    car_behind = random.randrange(num_doors)\n",
    "    picked_door = random.randrange(num_doors)\n",
    "    other_doors = [door for door in doors if door != picked_door]\n",
    "    alternative_door = (\n",
    "        car_behind if car_behind in other_doors else random.choice(other_doors)\n",
    "    )\n",
    "    return alternative_door == car_behind\n",
    "\n",
    "\n",
    "total_runs = 10000\n",
    "runs_with_change_correct = 0\n",
    "\n",
    "for i in range(total_runs):\n",
    "    if evaluate_change_correct():\n",
    "        runs_with_change_correct += 1\n",
    "\n",
    "print((runs_with_change_correct / total_runs)*100 , \"%\")"
   ]
  },
  {
   "cell_type": "markdown",
   "metadata": {},
   "source": [
    "# Conclusion:\n",
    "start off with choosing a door. During the initial selection, the probability of  picking the correct door is 1/3 , since the car could be behind any of the three doors. This means that once we’ve selected a door, the probability that the car is behind one of the doors that i did not pick is 1-1/3=2/3. Now when the host opens one of the doors that you did not pick, the probability of the opened door containing the car drops to 0, and the probability from this door is transfered to the door that stayed closed. The probability for the initally picked door stays the same, since opening the door did not reveal any new information whether the initially picked door was correct or not."
   ]
  },
  {
   "cell_type": "code",
   "execution_count": null,
   "metadata": {},
   "outputs": [],
   "source": []
  }
 ],
 "metadata": {
  "kernelspec": {
   "display_name": "Python 3.10.8 64-bit",
   "language": "python",
   "name": "python3"
  },
  "language_info": {
   "codemirror_mode": {
    "name": "ipython",
    "version": 3
   },
   "file_extension": ".py",
   "mimetype": "text/x-python",
   "name": "python",
   "nbconvert_exporter": "python",
   "pygments_lexer": "ipython3",
   "version": "3.10.8"
  },
  "vscode": {
   "interpreter": {
    "hash": "e7370f93d1d0cde622a1f8e1c04877d8463912d04d973331ad4851f04de6915a"
   }
  }
 },
 "nbformat": 4,
 "nbformat_minor": 4
}
