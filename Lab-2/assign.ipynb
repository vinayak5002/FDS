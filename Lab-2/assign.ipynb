{
 "cells": [
  {
   "cell_type": "code",
   "execution_count": 1,
   "metadata": {},
   "outputs": [],
   "source": [
    "import numpy as np"
   ]
  },
  {
   "cell_type": "markdown",
   "metadata": {},
   "source": [
    "#### 1."
   ]
  },
  {
   "cell_type": "code",
   "execution_count": 2,
   "metadata": {},
   "outputs": [
    {
     "data": {
      "text/plain": [
       "(400.4, 777, 'aman', '222')"
      ]
     },
     "execution_count": 2,
     "metadata": {},
     "output_type": "execute_result"
    }
   ],
   "source": [
    "set = {\"aman\", \"222\", 777, 400.4}\n",
    "\n",
    "tuple(set)"
   ]
  },
  {
   "cell_type": "markdown",
   "metadata": {},
   "source": [
    "### 2."
   ]
  },
  {
   "cell_type": "code",
   "execution_count": 3,
   "metadata": {},
   "outputs": [
    {
     "name": "stdout",
     "output_type": "stream",
     "text": [
      "{'rollNo': 'CB.EN.U4CSE20465', 'last name': 'vinayak', 'first name': 'srinivasa', 'date of birth': '25-Jan-2003'}\n"
     ]
    }
   ],
   "source": [
    "vinayak = {\n",
    "    \"rollNo\" : \"CB.EN.U4CSE20465\",\n",
    "    \"last name\" : \"vinayak\",\n",
    "    \"first name\" : \"srinivasa\",\n",
    "    \"date of birth\" : \"25-Jan-2003\",\n",
    "}\n",
    "\n",
    "print(vinayak)"
   ]
  },
  {
   "cell_type": "code",
   "execution_count": 4,
   "metadata": {},
   "outputs": [
    {
     "data": {
      "text/plain": [
       "array([[0.61775641, 0.30267658, 0.94660497, 0.96749973, 0.92381794,\n",
       "        0.76554262, 0.6813083 , 0.04192863, 0.82874746],\n",
       "       [0.94183923, 0.66354335, 0.36337634, 0.76289231, 0.40507414,\n",
       "        0.22050158, 0.05140574, 0.66584764, 0.38287602],\n",
       "       [0.64567773, 0.14969007, 0.66324814, 0.84660944, 0.01528416,\n",
       "        0.44337748, 0.54879385, 0.65828166, 0.77669131],\n",
       "       [0.40064984, 0.36222409, 0.86834675, 0.1920239 , 0.78389196,\n",
       "        0.73984926, 0.96493889, 0.67966578, 0.95738669],\n",
       "       [0.56657873, 0.51317337, 0.71116579, 0.81027671, 0.59054885,\n",
       "        0.80693884, 0.64330926, 0.69552273, 0.51936151],\n",
       "       [0.78383734, 0.6141057 , 0.82546906, 0.71542038, 0.42261918,\n",
       "        0.61052693, 0.12686105, 0.7132352 , 0.87183527]])"
      ]
     },
     "execution_count": 4,
     "metadata": {},
     "output_type": "execute_result"
    }
   ],
   "source": [
    "#3.\n",
    "\n",
    "np.random.seed(5002)\n",
    "np.random.random([6,9])"
   ]
  },
  {
   "cell_type": "code",
   "execution_count": 5,
   "metadata": {},
   "outputs": [
    {
     "data": {
      "text/plain": [
       "0.6256165037620265"
      ]
     },
     "execution_count": 5,
     "metadata": {},
     "output_type": "execute_result"
    }
   ],
   "source": [
    "#4. Generating random number less than 1.0\n",
    "\n",
    "np.random.rand()"
   ]
  },
  {
   "cell_type": "code",
   "execution_count": 6,
   "metadata": {},
   "outputs": [
    {
     "data": {
      "text/plain": [
       "72"
      ]
     },
     "execution_count": 6,
     "metadata": {},
     "output_type": "execute_result"
    }
   ],
   "source": [
    "#5.\n",
    "\n",
    "np.random.randint(20, 91)"
   ]
  },
  {
   "cell_type": "code",
   "execution_count": 7,
   "metadata": {},
   "outputs": [
    {
     "name": "stdout",
     "output_type": "stream",
     "text": [
      "[14, 13, 12, 15, 11]\n",
      "14\n"
     ]
    }
   ],
   "source": [
    "#6.\n",
    "\n",
    "set = [11, 12, 13,14, 15]\n",
    "\n",
    "np.random.shuffle(set)\n",
    "\n",
    "print(set)\n",
    "\n",
    "print(set[np.random.randint(0, len(set)-1)])"
   ]
  },
  {
   "cell_type": "code",
   "execution_count": null,
   "metadata": {},
   "outputs": [],
   "source": []
  }
 ],
 "metadata": {
  "kernelspec": {
   "display_name": "Python 3.9.13 64-bit (microsoft store)",
   "language": "python",
   "name": "python3"
  },
  "language_info": {
   "codemirror_mode": {
    "name": "ipython",
    "version": 3
   },
   "file_extension": ".py",
   "mimetype": "text/x-python",
   "name": "python",
   "nbconvert_exporter": "python",
   "pygments_lexer": "ipython3",
   "version": "3.9.13"
  },
  "orig_nbformat": 4,
  "vscode": {
   "interpreter": {
    "hash": "fadb1e38f0cdd3a7de9935db49a41ea4c57796df3b1bbd584faf5d0b9d3ba901"
   }
  }
 },
 "nbformat": 4,
 "nbformat_minor": 2
}
